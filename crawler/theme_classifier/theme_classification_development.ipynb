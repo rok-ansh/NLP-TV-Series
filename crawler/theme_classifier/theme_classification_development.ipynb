{
 "cells": [
  {
   "cell_type": "code",
   "execution_count": null,
   "metadata": {},
   "outputs": [
    {
     "name": "stderr",
     "output_type": "stream",
     "text": [
      "c:\\Users\\rohit\\Desktop\\Rohit\\Data Science Projects\\NLP Projects\\NLP TV Series\\env\\Lib\\site-packages\\tqdm\\auto.py:21: TqdmWarning: IProgress not found. Please update jupyter and ipywidgets. See https://ipywidgets.readthedocs.io/en/stable/user_install.html\n",
      "  from .autonotebook import tqdm as notebook_tqdm\n"
     ]
    }
   ],
   "source": [
    "from transformers import pipeline\n",
    "from nltk import sent_tokenize\n",
    "import nltk\n",
    "import torch\n",
    "from glob import glob\n",
    "import pandas as pd\n",
    "import numpy as np"
   ]
  },
  {
   "cell_type": "code",
   "execution_count": 3,
   "metadata": {},
   "outputs": [
    {
     "name": "stdout",
     "output_type": "stream",
     "text": [
      "Note: you may need to restart the kernel to use updated packages.\n",
      "Requirement already satisfied: pandas in c:\\users\\rohit\\desktop\\rohit\\data science projects\\nlp projects\\nlp tv series\\env\\lib\\site-packages (2.2.3)\n",
      "Requirement already satisfied: numpy>=1.26.0 in c:\\users\\rohit\\desktop\\rohit\\data science projects\\nlp projects\\nlp tv series\\env\\lib\\site-packages (from pandas) (2.2.3)\n",
      "Requirement already satisfied: python-dateutil>=2.8.2 in c:\\users\\rohit\\desktop\\rohit\\data science projects\\nlp projects\\nlp tv series\\env\\lib\\site-packages (from pandas) (2.9.0.post0)\n",
      "Requirement already satisfied: pytz>=2020.1 in c:\\users\\rohit\\desktop\\rohit\\data science projects\\nlp projects\\nlp tv series\\env\\lib\\site-packages (from pandas) (2025.1)\n",
      "Requirement already satisfied: tzdata>=2022.7 in c:\\users\\rohit\\desktop\\rohit\\data science projects\\nlp projects\\nlp tv series\\env\\lib\\site-packages (from pandas) (2025.1)\n",
      "Requirement already satisfied: six>=1.5 in c:\\users\\rohit\\desktop\\rohit\\data science projects\\nlp projects\\nlp tv series\\env\\lib\\site-packages (from python-dateutil>=2.8.2->pandas) (1.17.0)\n"
     ]
    },
    {
     "name": "stderr",
     "output_type": "stream",
     "text": [
      "\n",
      "[notice] A new release of pip is available: 24.0 -> 25.0.1\n",
      "[notice] To update, run: python.exe -m pip install --upgrade pip\n"
     ]
    }
   ],
   "source": [
    "pip install pandas"
   ]
  },
  {
   "cell_type": "code",
   "execution_count": 4,
   "metadata": {},
   "outputs": [
    {
     "name": "stderr",
     "output_type": "stream",
     "text": [
      "[nltk_data] Downloading package punkt to\n",
      "[nltk_data]     C:\\Users\\rohit\\AppData\\Roaming\\nltk_data...\n",
      "[nltk_data]   Package punkt is already up-to-date!\n"
     ]
    },
    {
     "data": {
      "text/plain": [
       "True"
      ]
     },
     "execution_count": 4,
     "metadata": {},
     "output_type": "execute_result"
    }
   ],
   "source": [
    "nltk.download('punkt')\n"
   ]
  },
  {
   "cell_type": "markdown",
   "metadata": {},
   "source": [
    "# Load the Model"
   ]
  },
  {
   "cell_type": "code",
   "execution_count": 5,
   "metadata": {},
   "outputs": [],
   "source": [
    "model_name = 'facebook/bart-large-mnli'\n",
    "# 0 means it will choose GPU if any otherwise it will choose CPU\n",
    "device = 0 if torch.cuda.is_available() else 'cpu'"
   ]
  },
  {
   "cell_type": "code",
   "execution_count": null,
   "metadata": {},
   "outputs": [],
   "source": [
    "def load_model(device):\n",
    "    # theme_classifier is library form hugging face \n",
    "    theme_classifier = pipeline(\n",
    "        \"zero-shot-classification\",\n",
    "        model=model_name,\n",
    "        device=device\n",
    "    )\n",
    "    return theme_classifier"
   ]
  },
  {
   "cell_type": "code",
   "execution_count": 7,
   "metadata": {},
   "outputs": [
    {
     "name": "stderr",
     "output_type": "stream",
     "text": [
      "c:\\Users\\rohit\\Desktop\\Rohit\\Data Science Projects\\NLP Projects\\NLP TV Series\\env\\Lib\\site-packages\\transformers\\tokenization_utils_base.py:1601: FutureWarning: `clean_up_tokenization_spaces` was not set. It will be set to `True` by default. This behavior will be depracted in transformers v4.45, and will be then set to `False` by default. For more details check this issue: https://github.com/huggingface/transformers/issues/31884\n",
      "  warnings.warn(\n"
     ]
    }
   ],
   "source": [
    "theme_classifier = load_model(device)"
   ]
  },
  {
   "cell_type": "code",
   "execution_count": 8,
   "metadata": {},
   "outputs": [],
   "source": [
    "# Lets specify the theme classification based on which we want to filter \n",
    "theme_list = [\"friendship\", \"hope\", \"sacrifice\", \"battle\", \"self development\", \"betrayal\", \"love\", \"dialogue\"]"
   ]
  },
  {
   "cell_type": "code",
   "execution_count": null,
   "metadata": {},
   "outputs": [
    {
     "data": {
      "text/plain": [
       "{'sequence': 'I like his move and his physique and his sense of humor',\n",
       " 'labels': ['self development',\n",
       "  'hope',\n",
       "  'battle',\n",
       "  'friendship',\n",
       "  'love',\n",
       "  'dialogue',\n",
       "  'sacrifice',\n",
       "  'betrayal'],\n",
       " 'scores': [0.7576901316642761,\n",
       "  0.2395360916852951,\n",
       "  0.1464158147573471,\n",
       "  0.06116967648267746,\n",
       "  0.05320629104971886,\n",
       "  0.0400259904563427,\n",
       "  0.01041721273213625,\n",
       "  3.602292781579308e-05]}"
      ]
     },
     "execution_count": 9,
     "metadata": {},
     "output_type": "execute_result"
    }
   ],
   "source": [
    "# This is to test that for any given sentence is classified in which section and are we able to classify from the above list \n",
    "# theme_classifier is library form hugging face \n",
    "theme_classifier(\n",
    "    \"I like his move and his physique and his sense of humor\",\n",
    "    theme_list,\n",
    "    multi_label=True\n",
    ")"
   ]
  },
  {
   "cell_type": "markdown",
   "metadata": {},
   "source": [
    "# Loading the Data"
   ]
  },
  {
   "cell_type": "code",
   "execution_count": 10,
   "metadata": {},
   "outputs": [],
   "source": [
    "# We are using glob as we have multiple files \n",
    "import glob\n",
    "import os\n",
    "mydir = r'C:\\Users\\rohit\\Desktop\\Rohit\\Data Science Projects\\NLP Projects\\NLP TV Series\\data\\Subtitles'\n",
    "# files = [print(file) for file in glob.glob(mydir+\"/*.ass\")]\n",
    "files = glob.glob(mydir + '/*.ass')\n",
    "# The below code is to get the base name of the file like \"Nauruto Season 1 - 01.ass\" \n",
    "# files = [os.path.basename(f) for f in glob.glob(mydir + '/*.ass')]\n",
    "\n"
   ]
  },
  {
   "cell_type": "code",
   "execution_count": 11,
   "metadata": {},
   "outputs": [
    {
     "data": {
      "text/plain": [
       "['C:\\\\Users\\\\rohit\\\\Desktop\\\\Rohit\\\\Data Science Projects\\\\NLP Projects\\\\NLP TV Series\\\\data\\\\Subtitles\\\\Naruto Season 1 - 01.ass',\n",
       " 'C:\\\\Users\\\\rohit\\\\Desktop\\\\Rohit\\\\Data Science Projects\\\\NLP Projects\\\\NLP TV Series\\\\data\\\\Subtitles\\\\Naruto Season 1 - 02.ass',\n",
       " 'C:\\\\Users\\\\rohit\\\\Desktop\\\\Rohit\\\\Data Science Projects\\\\NLP Projects\\\\NLP TV Series\\\\data\\\\Subtitles\\\\Naruto Season 1 - 03.ass',\n",
       " 'C:\\\\Users\\\\rohit\\\\Desktop\\\\Rohit\\\\Data Science Projects\\\\NLP Projects\\\\NLP TV Series\\\\data\\\\Subtitles\\\\Naruto Season 1 - 04.ass',\n",
       " 'C:\\\\Users\\\\rohit\\\\Desktop\\\\Rohit\\\\Data Science Projects\\\\NLP Projects\\\\NLP TV Series\\\\data\\\\Subtitles\\\\Naruto Season 1 - 05.ass']"
      ]
     },
     "execution_count": 11,
     "metadata": {},
     "output_type": "execute_result"
    }
   ],
   "source": [
    "files[:5]"
   ]
  },
  {
   "cell_type": "code",
   "execution_count": 12,
   "metadata": {},
   "outputs": [],
   "source": [
    "# Now lets open the file and read the text content from the file \n",
    "with open(files[0], 'r') as file:\n",
    "    lines = file.readlines()\n",
    "    # I want to read only after line number 27 as in content above things are useless \n",
    "    lines = lines[27:]\n",
    "    # Now i want the text only so that can be obtain after 9 commas \n",
    "    lines = [\",\".join(line.split(\",\")[9:]) for line in lines]\n"
   ]
  },
  {
   "cell_type": "code",
   "execution_count": 13,
   "metadata": {},
   "outputs": [
    {
     "data": {
      "text/plain": [
       "['A long time ago, a powerful demon fox\\\\Nappeared with nine tails.\\n',\n",
       " 'With its powerful tails,\\n']"
      ]
     },
     "execution_count": 13,
     "metadata": {},
     "output_type": "execute_result"
    }
   ],
   "source": [
    "lines[:2]"
   ]
  },
  {
   "cell_type": "code",
   "execution_count": 14,
   "metadata": {},
   "outputs": [],
   "source": [
    "# In the above output we can see we have \\\\N in the output \n",
    "lines = [line.replace(\"\\\\N\", \" \") for line in lines]"
   ]
  },
  {
   "cell_type": "code",
   "execution_count": 15,
   "metadata": {},
   "outputs": [
    {
     "data": {
      "text/plain": [
       "['A long time ago, a powerful demon fox appeared with nine tails.\\n',\n",
       " 'With its powerful tails,\\n']"
      ]
     },
     "execution_count": 15,
     "metadata": {},
     "output_type": "execute_result"
    }
   ],
   "source": [
    "lines[:2]"
   ]
  },
  {
   "cell_type": "code",
   "execution_count": 16,
   "metadata": {},
   "outputs": [
    {
     "data": {
      "text/plain": [
       "\"A long time ago, a powerful demon fox appeared with nine tails.\\n With its powerful tails,\\n it could smash mountains and create tidal waves.\\n A band of Ninjas rose to defend their village from attack.\\n We have to wait until the Fourth Hokage gets here!\\n We can't let it get any closer to our village!\\n One great Ninja was able to imprison the monster,\\n but died in the process.\\n This Ninja was known asâ€¦ the Fourth Hokage.\\n Naruto!\\n\""
      ]
     },
     "execution_count": 16,
     "metadata": {},
     "output_type": "execute_result"
    }
   ],
   "source": [
    "# Now lets try to combine the sentence which is seperated by a space \n",
    "# This is the text what we are going to feed to neural network (theme classifier) as we cant feed more than 512 as theme classifier has max of 512 token \n",
    "# So we cannot feed the whole subtitles so we need to divide them in batches of 10 or 20 or anything so that it can fit in the model \n",
    "\" \".join(lines[:10])"
   ]
  },
  {
   "cell_type": "code",
   "execution_count": 17,
   "metadata": {},
   "outputs": [
    {
     "data": {
      "text/plain": [
       "1"
      ]
     },
     "execution_count": 17,
     "metadata": {},
     "output_type": "execute_result"
    }
   ],
   "source": [
    "# Lets now extract the episode number \n",
    "# But here the output is in list format i want the format in string so try second way \n",
    "# episode  = [file.split(\"-\")[-1].split(\".\")[0].strip() for file in files[:1]]\n",
    "# print(episode)\n",
    "int(files[0].split(\"-\")[-1].split(\".\")[0].strip())\n",
    "\n"
   ]
  },
  {
   "cell_type": "code",
   "execution_count": 18,
   "metadata": {},
   "outputs": [],
   "source": [
    "# Lets now create the complete function from the above code \n",
    "\n",
    "scripts = []\n",
    "episode_num = []\n",
    "def load_subtitles_dataset(dataset_path):\n",
    "    file_path = glob.glob(dataset_path + '/*.ass')\n",
    "    for path in file_path:\n",
    "        #Read the file \n",
    "        with open(path, 'r', encoding='utf-8') as file:\n",
    "            lines = file.readlines()\n",
    "            # I want to read only after line number 27 as in content above things are useless \n",
    "            lines = lines[27:]\n",
    "            # Now i want the text only so that can be obtain after 9 commas \n",
    "            lines = [\",\".join(line.split(\",\")[9:]) for line in lines]\n",
    "            # print(\"opened the file\")\n",
    "\n",
    "        # In the above output we can see we have \\\\N in the output \n",
    "        lines = [line.replace(\"\\\\N\", \" \") for line in lines]\n",
    "\n",
    "        # Now lets try to combine the sentence which is seperated by a space \n",
    "        script  = \" \".join(lines)\n",
    "        # print(\"scripts joined\")\n",
    "\n",
    "        # Lets get the episode number \n",
    "        episode = int(files[0].split(\"-\")[-1].split(\".\")[0].strip())\n",
    "        # print(\"episode value\")\n",
    "\n",
    "        scripts.append(script)\n",
    "        episode_num.append(episode)\n",
    "\n",
    "        df = pd.DataFrame.from_dict({'episode':episode_num, 'script':scripts})\n",
    "        # print(\"df value\")\n",
    "\n",
    "    return df\n",
    "\n",
    "        \n",
    "\n"
   ]
  },
  {
   "cell_type": "code",
   "execution_count": 19,
   "metadata": {},
   "outputs": [],
   "source": [
    "dataset = r'C:\\Users\\rohit\\Desktop\\Rohit\\Data Science Projects\\NLP Projects\\NLP TV Series\\data\\Subtitles'\n",
    "df = load_subtitles_dataset(dataset)\n"
   ]
  },
  {
   "cell_type": "code",
   "execution_count": 20,
   "metadata": {},
   "outputs": [
    {
     "data": {
      "text/html": [
       "<div>\n",
       "<style scoped>\n",
       "    .dataframe tbody tr th:only-of-type {\n",
       "        vertical-align: middle;\n",
       "    }\n",
       "\n",
       "    .dataframe tbody tr th {\n",
       "        vertical-align: top;\n",
       "    }\n",
       "\n",
       "    .dataframe thead th {\n",
       "        text-align: right;\n",
       "    }\n",
       "</style>\n",
       "<table border=\"1\" class=\"dataframe\">\n",
       "  <thead>\n",
       "    <tr style=\"text-align: right;\">\n",
       "      <th></th>\n",
       "      <th>episode</th>\n",
       "      <th>script</th>\n",
       "    </tr>\n",
       "  </thead>\n",
       "  <tbody>\n",
       "    <tr>\n",
       "      <th>0</th>\n",
       "      <td>1</td>\n",
       "      <td>A long time ago, a powerful demon fox appeared...</td>\n",
       "    </tr>\n",
       "    <tr>\n",
       "      <th>1</th>\n",
       "      <td>1</td>\n",
       "      <td>C'mon!\\n Running like a fugitive,\\n Being chas...</td>\n",
       "    </tr>\n",
       "    <tr>\n",
       "      <th>2</th>\n",
       "      <td>1</td>\n",
       "      <td>C'mon!\\n Running like a fugitive,\\n Being chas...</td>\n",
       "    </tr>\n",
       "    <tr>\n",
       "      <th>3</th>\n",
       "      <td>1</td>\n",
       "      <td>C'mon!\\n Running like a fugitive,\\n Being chas...</td>\n",
       "    </tr>\n",
       "    <tr>\n",
       "      <th>4</th>\n",
       "      <td>1</td>\n",
       "      <td>C'mon!\\n Running like a fugitive,\\n Being chas...</td>\n",
       "    </tr>\n",
       "  </tbody>\n",
       "</table>\n",
       "</div>"
      ],
      "text/plain": [
       "   episode                                             script\n",
       "0        1  A long time ago, a powerful demon fox appeared...\n",
       "1        1  C'mon!\\n Running like a fugitive,\\n Being chas...\n",
       "2        1  C'mon!\\n Running like a fugitive,\\n Being chas...\n",
       "3        1  C'mon!\\n Running like a fugitive,\\n Being chas...\n",
       "4        1  C'mon!\\n Running like a fugitive,\\n Being chas..."
      ]
     },
     "execution_count": 20,
     "metadata": {},
     "output_type": "execute_result"
    }
   ],
   "source": [
    "df.head()"
   ]
  },
  {
   "cell_type": "markdown",
   "metadata": {},
   "source": [
    "# Run the Model"
   ]
  },
  {
   "cell_type": "code",
   "execution_count": null,
   "metadata": {},
   "outputs": [],
   "source": [
    "# Get the Scripts value \n",
    "scripts = df.iloc[0]['script']"
   ]
  },
  {
   "cell_type": "code",
   "execution_count": null,
   "metadata": {},
   "outputs": [
    {
     "data": {
      "text/plain": [
       "'A long time ago, a powerful demon fox appeared with nine tails.\\n With its powerful tails,\\n it could smash mountains and create tidal waves.\\n A band of Ninjas rose to defend their village from attack.\\n We have to wait until the Fourth Hokage gets here!\\n We can\\'t let it get any closer to our village!\\n One great Ninja was able to imprison the monster,\\n but died in the process.\\n This Ninja was known as… the Fourth Hokage.\\n Naruto!\\n Why did you do such a thing?!\\n You\\'re really gonna get it this time!\\n I don\\'t care!\\n You know your problem?\\n You can\\'t do the things I do!\\n Only I can do this!\\n I\\'m better than all of you! Believe it!\\n There\\'s a problem, sir!\\n Lord Hokage!\\n What is it?\\n Did that Naruto do something again?\\n Yes. He climbed onto the Mountainside Images…\\n And he vandalized and graffitied all over them!\\n Wait!\\n Ha ha…\\n Why should I?\\n Hey, Naruto!\\n How did you suddenly get here, lruka Sensei?\\n The question is what are you doing here when you should be in class now?\\n Now listen, Naruto.\\n You failed the last graduation test and the one before that.\\n This is no time to be goofing off, you fool!\\n We will have a re-test on the Transformation Jutsu!\\n Even those who already passed will take it!\\n Whaaaat?!\\n Sakura Haruno. Here I go…\\n Transform!\\n OK!\\n I did it!\\n Cha!\\n Did you see that, Sasuke?\\n Next, Sasuke Uchiha.\\n Yes.\\n O-OK.\\n Next, Naruto Uzumaki.\\n This is a real pain.\\n And it\\'s all your fault.\\n Like I care!!\\n OK…\\n Good luck, Naruto…\\n Transform!\\n How was it?\\n I call it the \"Sexy Jutsu\"!\\n You fool! Stop making idiotic spells!\\n Darn…\\n Darn…\\n I won\\'t let you go home unless you clean that all up.\\n I don\\'t care…\\n There\\'s nobody home anyway.\\n Naruto...\\n What is it this time?\\n What I meant was…\\n If you clean up all that mess, I\\'ll buy you ramen tonight.\\n Huh?!\\n Yes! I-I will finish it no time!\\n Enter: Naruto Uzumaki!\\n Naruto.\\n Why did you vandalize those faces?\\n Don\\'t you know who the Hokage leaders are?\\n Of course, I do!\\n I know they earned the title Lord Hokage\\n because they were the best Ninja of their time, right?\\n Especially the Fourth Hokage was a hero\\n who saved the village from the nine-tail demon fox.\\n Then why did you do that?\\n Because I\\'ll become a Hokage myself.\\n And I\\'ll be the greatest Hokage of all time!\\n So that everyone will finally learn to accept me!\\n By the way, Sensei, I have a favor to ask.\\n You want another bowl?\\n Mmmm…No…\\n Can I borrow that Leaf headband for a while?\\n This?\\n No no!\\n This is worn only by those who have graduated from Ninja Academy.\\n Tomorrow, you will…\\n You\\'re so mean!\\n So that\\'s why you took off your goggles…\\n Humph... One more bowl please!\\n We are now about to begin the graduation test.\\n When your name is called, proceed to the next classroom.\\n The test is on the Clone Jutsu.\\n Oh no…\\n Of all the…! That is my weakest Jutsu!\\n But still… I will do it no matter what!\\n Clone Jutsu!\\n Disqualified!\\n Iruka Sensei.\\n His physical coordination and stamina are excellent.\\n And he managed to come up with something.\\n Isn\\'t that enough for him to pass?\\n Mizuki Sensei... All the others created three or more clones.\\n Naruto created just one.\\n And it\\'s practically useless. I can\\'t give him a passing mark.\\n I \\'m a Ninja now!\\n You did well. That\\'s my son.\\n Congratulations for your graduation.\\n I\\'ll cook something good tonight!\\n Look at that one.\\n It\\'s that boy. I hear he\\'s the only one who failed.\\n Serves him right.\\n Imagine what would happen if he became a Ninja.\\n Isn\\'t that the boy who is actually…\\n Hey! We\\'re not supposed to talk about that.\\n Iruka. We need to talk later.\\n Yes, sir.\\n Iruka Sensei isn\\'t trying to be mean to you.\\n Then why only me?\\n He wants you to become strong from the bottom of his heart.\\n You both don\\'t have parents.\\n But I really wanted to graduate.\\n Heh... I guess I have no choice…\\n I\\'ll let you in on a big secret.\\n Secret?\\n Iruka.\\n What is it, Lord Hokage?\\n I know how you feel. But…\\n Naruto also grew up without knowing the love of his parents…like you.\\n Let me go!\\n My mom and dad are still out there fighting!\\n Wake up, Iruka Sensei!\\n What\\'s the matter?\\n Come to Lord Hokage\\'s immediately!\\n I heard that Naruto… stole the Scroll of Sealing.\\n The Scroll of Sealing?!\\n Let\\'s see…\\n The first Jutsu is… Multi-Shadow Clone Jutsu?\\n What?! Already a Jutsu I\\'m no good at?\\n Lord Hokage! We can\\'t forgive him!\\n This is not just a prank!\\n The Scroll is a dangerous item that the First Hokage sealed!\\n Depending on its use…\\n It will be a major disaster if it is taken out of the village!\\n Yes. Bring Naruto here at once!\\n Yes, sir!\\n Where did you go…Naruto?\\n I will tell everyone in the village about this and eliminate Naruto…\\n Then the Scroll of Sealing will be mine!\\n Hey you, Naruto!\\n You found me..\\n And I\\'ve only learned one Jutsu.\\n He\\'s been practicing the Jutsu…\\n until he\\'s become this exhausted and dirty…?\\n Listen, listen! I\\'m gonna show you this amazing Jutsu!\\n You\\'re gonna let me graduate if I can do it!\\n Isn\\'t it true that I can graduate if I can do one of the Jutsu written here?\\n Who told you that?\\n Mizuki Sensei. He told me about this scroll, and this place…\\n Mizuki did?!\\n I\\'m impressed you found this place.\\n I see now…how it is.\\n Naruto, give me that scroll.\\n Wait, wait… What\\'s going on here?\\n Naruto! Never give him that scroll!\\n It is a dangerous object that contains forbidden Ninja Jutsu. It was sealed.\\n Mizuki used you in order to get it for himself!\\n W-Wha--?\\n Naruto, Iruka is only afraid of you holding that scroll!\\n Huh?\\n What are you saying, Mizuki! Don\\'t let him fool you, Naruto!\\n I will tell you the truth.\\n Idiot! Don\\'t do that!\\n After an incident 12 years ago, a rule was created.\\n A rule?\\n That is, Naruto, a rule everybody but you knows.\\n Except me?! \\t\\t\\t\\t\\tWhat is it?\\n Stop it, Mizuki!\\n The rule forbids anyone from revealing that you are actually the Demon Fox Spirit!\\n Huh?\\n You are actually the Demon, Nine-Tailed Fox Spirit,\\n who killed Iruka\\'s parents and destroyed our village!\\n Stop it!\\n Everyone has been deceiving you ever since.\\n Didn\\'t you find it strange?\\n Why everyone hated you so much?\\n No! No! No! No! No!\\n Naruto…\\n Nobody accepts you. That\\'s why Iruka hates you so much!\\n Iruka... Naruto grew up without the love of parents.\\n Everyone avoids him like the plague after what happened.\\n That\\'s why he keeps misbehaving.\\n It\\'s the only way for him to get any attention or acknowledgement.\\n He pretends to be tough, but inside he is really hurting.\\n Die, Naruto!\\n Naruto! \\t\\t\\t\\t\\tGet down!\\n Why…?\\n Because you and I are the same.\\n After my parents died,\\n nobody paid attention to me or gave me any support.\\n I wasn\\'t a good student in school.\\n I was the class clown… because I wanted people to notice me.\\n I couldn\\'t get noticed through excellence, so I kept doing stupid things.\\n It was so hard.\\n Isn\\'t that right, Naruto?\\n You felt so lonely…right? And you suffered inside, right?\\n I\\'m sorry, Naruto….\\n If I had been more responsible, maybe you wouldn\\'t have suffered so much.\\n Don\\'t make me laugh!\\n Iruka has always hated you, ever since you killed his parents!\\n He\\'s just saying all that to get the Scroll of Sealing back!\\n Naruto!\\n Narutoooooo!\\n He is not the type of kid who will change his mind.\\n He will take revenge against our village using that scroll!\\n Didn\\'t you see his eyes? Those are the eyes of a Demon Fox.\\n No… Naruto…isn\\'t…like that at all!\\n All I want is to kill Naruto and get the scroll.\\n I\\'ll take care of you later!\\n I-I won\\'t let you…\\n Well, well.\\n Mizuki has a big mouth!\\n Naruto feels worse than he\\'s ever felt.\\n He might unleash the power locked up inside him.\\n The Scroll of Sealing is now with him.\\n There\\'s a slight chance he might actually release\\n the Nine-Tailed Fox Spirit sealed inside him!\\n If that happens…\\n I\\'ve found him!\\n Naruto!\\n Everything that Mizuki said was a lie!\\n Give me that scroll, quick! Mizuki is after the scroll!\\n It can\\'t be…\\n Why is it, Naruto?\\n How…\\n did you know I wasn\\'t Iruka…?\\n Because I\\'m Iruka.\\n I see.\\n What\\'s in it for you to protect the one who killed your family?\\n I\\'m not gonna let a stupid idiot like you get that scroll!\\n You\\'re the idiot. Naruto is the same as me.\\n Same?\\n Anyone can do whatever he wants once he has the scroll.\\n There is no way that that monster…\\n that Fox Spirit, won\\'t take advantage of the power of that scroll!\\n You\\'re right…\\n I guess it was true all along!\\n See, Iruka Sensei never really cared for me at all!\\n ...if he was the Demon Fox Spirit.\\n But Naruto is different!\\n I know that he is an exceptional student.\\n He works very hard,\\n and he\\'s single-minded and clumsy at the same time.\\n No one accepts him, but he knows the meaning of human suffering.\\n He is not the Demon Fox Spirit.\\n He\\'s Naruto Uzumaki of the Village Hidden in the Leaves!\\n You are so gullible. \\t\\t\\t\\t\\tlruka!\\n I was gonna take you down later, but I have changed my mind.\\n Die!\\n I guess this is the end for me…\\n Naruto?!\\n You surprised me there, freak.\\n If you ever lay a hand on Iruka Sensei, I\\'ll kill you!\\n Shut up! I can take care of a kid like you with a single blow!\\n Why don\\'t you try then? I\\'ll strike you back a thousand-fold!\\n Let\\'s see you try! Show me what you can do, Demon Fox!\\n Shadow Clone Jutsu!\\n Naruto! You\\'ve…\\n Those aren\\'t just images but actual clones! That\\'s an advanced Ninjutsu!\\n What\\'s this…?\\n What\\'s the matter? \\t\\t\\t\\t\\tC\\'mon!\\n Weren\\'t you gonna get me with one blow? Here!\\n In that case… I\\'ll come to you.\\n I kinda got carried away. lruka Sensei, are you okay?\\n Yeah.\\n He\\'s really something.\\n Maybe it is true.\\n Maybe he will surpass all the Hokage leaders…\\n Naruto, come over here. I\\'d like to give you something.\\n Has anyone found Naruto yet?\\n No.\\n Darn, this is going to be bad…\\n There\\'s no need to worry anymore.\\n Lord Hokage!\\n He\\'ll be back soon.\\n Sensei, how much longer?\\n OK, you may open your eyes now.\\n Congratulations…on your graduation.\\n In celebration, we\\'ll have ramen tonight!\\n Iruka Sensei!\\n That hurts!\\n Naruto…\\n I was going to lecture to you...\\n that the road gets more difficult now that you\\'re a Ninja.\\n But I guess I\\'ll just wait to tell you that until we get to the ramen stand…\\n W-What do you want, you little shrimp? Quit following me!\\n You\\'re smaller than me and\\n you\\'re saying that you\\'re gonna become the Fifth Hokage?\\n I don\\'t care if you are the 3rd Hokage\\'s grandson or not.\\n It\\'s not that easy to be a Hokage!\\n If you want it that bad, you\\'re gonna have to beat me first!\\n Next episode:  \"My Name Is Konohamaru!\"\\n Watch my outstanding performance!\\n'"
      ]
     },
     "execution_count": 87,
     "metadata": {},
     "output_type": "execute_result"
    }
   ],
   "source": [
    "# We will the complete scripts \n",
    "scripts"
   ]
  },
  {
   "cell_type": "code",
   "execution_count": 25,
   "metadata": {},
   "outputs": [
    {
     "data": {
      "text/plain": [
       "['A long time ago, a powerful demon fox appeared with nine tails.',\n",
       " 'With its powerful tails,\\n it could smash mountains and create tidal waves.',\n",
       " 'A band of Ninjas rose to defend their village from attack.']"
      ]
     },
     "execution_count": 25,
     "metadata": {},
     "output_type": "execute_result"
    }
   ],
   "source": [
    "# Now lets break down to sentence\n",
    "script_sentences = sent_tokenize(scripts)\n",
    "script_sentences[:3]"
   ]
  },
  {
   "cell_type": "code",
   "execution_count": 28,
   "metadata": {},
   "outputs": [],
   "source": [
    "# Batch Sentence \n",
    "# lets say batch size is 20 \n",
    "sentence_batch_size = 20\n",
    "scripts_batches = []\n",
    "# Running a loop form 1 st sentence to last sentence and making a batch of 20 i.e sentence_batch_size\n",
    "for index in range(0, len(script_sentences), sentence_batch_size):\n",
    "    # Now joining all the sentence from 1st to 20th in 1st go and so on and so forth increment of 20 everytime\n",
    "    sent = \" \".join(script_sentences[index:sentence_batch_size+index])\n",
    "    scripts_batches.append(sent)"
   ]
  },
  {
   "cell_type": "code",
   "execution_count": 33,
   "metadata": {},
   "outputs": [
    {
     "data": {
      "text/plain": [
       "[\"A long time ago, a powerful demon fox appeared with nine tails. With its powerful tails,\\n it could smash mountains and create tidal waves. A band of Ninjas rose to defend their village from attack. We have to wait until the Fourth Hokage gets here! We can't let it get any closer to our village! One great Ninja was able to imprison the monster,\\n but died in the process. This Ninja was known as… the Fourth Hokage. Naruto! Why did you do such a thing?! You're really gonna get it this time! I don't care! You know your problem? You can't do the things I do! Only I can do this! I'm better than all of you! Believe it! There's a problem, sir! Lord Hokage! What is it? Did that Naruto do something again?\",\n",
       " 'Yes. He climbed onto the Mountainside Images…\\n And he vandalized and graffitied all over them! Wait! Ha ha…\\n Why should I? Hey, Naruto! How did you suddenly get here, lruka Sensei? The question is what are you doing here when you should be in class now? Now listen, Naruto. You failed the last graduation test and the one before that. This is no time to be goofing off, you fool! We will have a re-test on the Transformation Jutsu! Even those who already passed will take it! Whaaaat?! Sakura Haruno. Here I go…\\n Transform! OK! I did it! Cha! Did you see that, Sasuke? Next, Sasuke Uchiha.',\n",
       " 'Yes. O-OK.\\n Next, Naruto Uzumaki. This is a real pain. And it\\'s all your fault. Like I care!! OK…\\n Good luck, Naruto…\\n Transform! How was it? I call it the \"Sexy Jutsu\"! You fool! Stop making idiotic spells! Darn…\\n Darn…\\n I won\\'t let you go home unless you clean that all up. I don\\'t care…\\n There\\'s nobody home anyway. Naruto...\\n What is it this time? What I meant was…\\n If you clean up all that mess, I\\'ll buy you ramen tonight. Huh?! Yes! I-I will finish it no time! Enter: Naruto Uzumaki! Naruto. Why did you vandalize those faces?',\n",
       " \"Don't you know who the Hokage leaders are? Of course, I do! I know they earned the title Lord Hokage\\n because they were the best Ninja of their time, right? Especially the Fourth Hokage was a hero\\n who saved the village from the nine-tail demon fox. Then why did you do that? Because I'll become a Hokage myself. And I'll be the greatest Hokage of all time! So that everyone will finally learn to accept me! By the way, Sensei, I have a favor to ask. You want another bowl? Mmmm…No…\\n Can I borrow that Leaf headband for a while? This? No no! This is worn only by those who have graduated from Ninja Academy. Tomorrow, you will…\\n You're so mean! So that's why you took off your goggles…\\n Humph... One more bowl please! We are now about to begin the graduation test. When your name is called, proceed to the next classroom. The test is on the Clone Jutsu. Oh no…\\n Of all the…!\",\n",
       " \"That is my weakest Jutsu! But still… I will do it no matter what! Clone Jutsu! Disqualified! Iruka Sensei. His physical coordination and stamina are excellent. And he managed to come up with something. Isn't that enough for him to pass? Mizuki Sensei... All the others created three or more clones. Naruto created just one. And it's practically useless. I can't give him a passing mark. I 'm a Ninja now! You did well. That's my son. Congratulations for your graduation. I'll cook something good tonight! Look at that one. It's that boy. I hear he's the only one who failed.\"]"
      ]
     },
     "execution_count": 33,
     "metadata": {},
     "output_type": "execute_result"
    }
   ],
   "source": [
    "scripts_batches[:5]"
   ]
  },
  {
   "cell_type": "code",
   "execution_count": null,
   "metadata": {},
   "outputs": [],
   "source": [
    "# Lets now try to classify it based on the theme_list where we run on the theme_classifier for one sentence \n",
    "# theme_classifier is library form hugging face \n",
    "theme_output = theme_classifier(\n",
    "    scripts_batches[:2],\n",
    "    theme_list, \n",
    "    multi_label = True\n",
    ")\n",
    "# Below we will the classification on 2 batch so on and so forth we can classify the sentence "
   ]
  },
  {
   "cell_type": "code",
   "execution_count": 61,
   "metadata": {},
   "outputs": [
    {
     "data": {
      "text/plain": [
       "[{'sequence': \"A long time ago, a powerful demon fox appeared with nine tails. With its powerful tails,\\n it could smash mountains and create tidal waves. A band of Ninjas rose to defend their village from attack. We have to wait until the Fourth Hokage gets here! We can't let it get any closer to our village! One great Ninja was able to imprison the monster,\\n but died in the process. This Ninja was known as… the Fourth Hokage. Naruto! Why did you do such a thing?! You're really gonna get it this time! I don't care! You know your problem? You can't do the things I do! Only I can do this! I'm better than all of you! Believe it! There's a problem, sir! Lord Hokage! What is it? Did that Naruto do something again?\",\n",
       "  'labels': ['dialogue',\n",
       "   'betrayal',\n",
       "   'battle',\n",
       "   'sacrifice',\n",
       "   'self development',\n",
       "   'hope',\n",
       "   'friendship',\n",
       "   'love'],\n",
       "  'scores': [0.9800739288330078,\n",
       "   0.9396896362304688,\n",
       "   0.8546879291534424,\n",
       "   0.7349799871444702,\n",
       "   0.7284946441650391,\n",
       "   0.19909849762916565,\n",
       "   0.059223175048828125,\n",
       "   0.040261998772621155]},\n",
       " {'sequence': 'Yes. He climbed onto the Mountainside Images…\\n And he vandalized and graffitied all over them! Wait! Ha ha…\\n Why should I? Hey, Naruto! How did you suddenly get here, lruka Sensei? The question is what are you doing here when you should be in class now? Now listen, Naruto. You failed the last graduation test and the one before that. This is no time to be goofing off, you fool! We will have a re-test on the Transformation Jutsu! Even those who already passed will take it! Whaaaat?! Sakura Haruno. Here I go…\\n Transform! OK! I did it! Cha! Did you see that, Sasuke? Next, Sasuke Uchiha.',\n",
       "  'labels': ['dialogue',\n",
       "   'self development',\n",
       "   'battle',\n",
       "   'betrayal',\n",
       "   'sacrifice',\n",
       "   'hope',\n",
       "   'friendship',\n",
       "   'love'],\n",
       "  'scores': [0.9370127320289612,\n",
       "   0.8678194880485535,\n",
       "   0.6581310033798218,\n",
       "   0.6457238793373108,\n",
       "   0.6258825063705444,\n",
       "   0.2042413204908371,\n",
       "   0.08603251725435257,\n",
       "   0.028020663186907768]}]"
      ]
     },
     "execution_count": 61,
     "metadata": {},
     "output_type": "execute_result"
    }
   ],
   "source": [
    "theme_output"
   ]
  },
  {
   "cell_type": "code",
   "execution_count": null,
   "metadata": {},
   "outputs": [],
   "source": [
    "# Now lets convert the output in table format so that we can use it any way we want \n",
    "# Example for {'dialogue': [0.9800739288330078, 0.9370127320289612],\n",
    "# 'betrayal': [0.9396896362304688, 0.6457238793373108]}\n",
    "\n",
    "themes = {}\n",
    "for output in theme_output:\n",
    "    for label, score in zip(output['labels'], output['scores']):\n",
    "        # print(label, score)\n",
    "        if label not in themes:\n",
    "            themes[label] = []\n",
    "        themes[label].append(score)\n",
    "\n",
    "        # print(index)\n",
    "    # if output['labels'][2] == 'battle':\n",
    "    #     battle.append(output['scores'][2])\n",
    "    # print(output['labels'][2])\n",
    "    # print(output['scores'][2])\n",
    "\n",
    "# print(battle)"
   ]
  },
  {
   "cell_type": "code",
   "execution_count": 84,
   "metadata": {},
   "outputs": [
    {
     "data": {
      "text/plain": [
       "{'dialogue': [0.9800739288330078, 0.9370127320289612],\n",
       " 'betrayal': [0.9396896362304688, 0.6457238793373108],\n",
       " 'battle': [0.8546879291534424, 0.6581310033798218],\n",
       " 'sacrifice': [0.7349799871444702, 0.6258825063705444],\n",
       " 'self development': [0.7284946441650391, 0.8678194880485535],\n",
       " 'hope': [0.19909849762916565, 0.2042413204908371],\n",
       " 'friendship': [0.059223175048828125, 0.08603251725435257],\n",
       " 'love': [0.040261998772621155, 0.028020663186907768]}"
      ]
     },
     "execution_count": 84,
     "metadata": {},
     "output_type": "execute_result"
    }
   ],
   "source": [
    "themes"
   ]
  },
  {
   "cell_type": "code",
   "execution_count": 96,
   "metadata": {},
   "outputs": [],
   "source": [
    "# Lets have the mean of the value \n",
    "import numpy as np\n",
    "themes = {key : np.mean(value) for key, value in themes.items()}"
   ]
  },
  {
   "cell_type": "code",
   "execution_count": 98,
   "metadata": {},
   "outputs": [
    {
     "data": {
      "text/plain": [
       "{'dialogue': np.float64(0.9585433304309845),\n",
       " 'betrayal': np.float64(0.7927067577838898),\n",
       " 'battle': np.float64(0.7564094662666321),\n",
       " 'sacrifice': np.float64(0.6804312467575073),\n",
       " 'self development': np.float64(0.7981570661067963),\n",
       " 'hope': np.float64(0.20166990906000137),\n",
       " 'friendship': np.float64(0.07262784615159035),\n",
       " 'love': np.float64(0.03414133097976446)}"
      ]
     },
     "execution_count": 98,
     "metadata": {},
     "output_type": "execute_result"
    }
   ],
   "source": [
    "themes"
   ]
  },
  {
   "cell_type": "code",
   "execution_count": null,
   "metadata": {},
   "outputs": [
    {
     "data": {
      "text/html": [
       "<div>\n",
       "<style scoped>\n",
       "    .dataframe tbody tr th:only-of-type {\n",
       "        vertical-align: middle;\n",
       "    }\n",
       "\n",
       "    .dataframe tbody tr th {\n",
       "        vertical-align: top;\n",
       "    }\n",
       "\n",
       "    .dataframe thead th {\n",
       "        text-align: right;\n",
       "    }\n",
       "</style>\n",
       "<table border=\"1\" class=\"dataframe\">\n",
       "  <thead>\n",
       "    <tr style=\"text-align: right;\">\n",
       "      <th></th>\n",
       "      <th>Value</th>\n",
       "    </tr>\n",
       "  </thead>\n",
       "  <tbody>\n",
       "    <tr>\n",
       "      <th>dialogue</th>\n",
       "      <td>0.958543</td>\n",
       "    </tr>\n",
       "    <tr>\n",
       "      <th>betrayal</th>\n",
       "      <td>0.792707</td>\n",
       "    </tr>\n",
       "    <tr>\n",
       "      <th>battle</th>\n",
       "      <td>0.756409</td>\n",
       "    </tr>\n",
       "    <tr>\n",
       "      <th>sacrifice</th>\n",
       "      <td>0.680431</td>\n",
       "    </tr>\n",
       "    <tr>\n",
       "      <th>self development</th>\n",
       "      <td>0.798157</td>\n",
       "    </tr>\n",
       "  </tbody>\n",
       "</table>\n",
       "</div>"
      ],
      "text/plain": [
       "                     Value\n",
       "dialogue          0.958543\n",
       "betrayal          0.792707\n",
       "battle            0.756409\n",
       "sacrifice         0.680431\n",
       "self development  0.798157"
      ]
     },
     "execution_count": 102,
     "metadata": {},
     "output_type": "execute_result"
    }
   ],
   "source": [
    "# Now convert this dictionary to DataFrameme \n",
    "df1 = pd.DataFrame.from_dict(themes, orient='index', columns=['Value'])\n",
    "df1.head()\n"
   ]
  },
  {
   "cell_type": "code",
   "execution_count": null,
   "metadata": {},
   "outputs": [],
   "source": [
    "# Now lets create a function where we can have all the above roles in to a single function \n",
    "def get_themes_inference(scripts):\n",
    "    # Now lets break down to sentence\n",
    "    script_sentences = sent_tokenize(scripts)\n",
    "\n",
    "    # Batch Sentence \n",
    "    # lets say batch size is 20 \n",
    "    sentence_batch_size = 20\n",
    "    scripts_batches = []\n",
    "    # Running a loop form 1 st sentence to last sentence and making a batch of 20 i.e sentence_batch_size\n",
    "    for index in range(0, len(script_sentences), sentence_batch_size):\n",
    "        # Now joining all the sentence from 1st to 20th in 1st go and so on and so forth increment of 20 everytime\n",
    "        sent = \" \".join(script_sentences[index:sentence_batch_size+index])\n",
    "        scripts_batches.append(sent)\n",
    "\n",
    "    # Run the Model \n",
    "    # Lets now try to classify it based on the theme_list where we run on the theme_classifier for one sentence \n",
    "    # theme_classifier is library form hugging face \n",
    "    theme_output = theme_classifier(\n",
    "        scripts_batches[:2],\n",
    "        theme_list, \n",
    "        multi_label = True\n",
    "    )\n",
    "    # Wrangle the output \n",
    "    # Now lets convert the output in table format so that we can use it any way we want \n",
    "    # Example for {'dialogue': [0.9800739288330078, 0.9370127320289612],\n",
    "    # 'betrayal': [0.9396896362304688, 0.6457238793373108]}\n",
    "\n",
    "    themes = {}\n",
    "    for output in theme_output:\n",
    "        for label, score in zip(output['labels'], output['scores']):\n",
    "            # print(label, score)\n",
    "            if label not in themes:\n",
    "                themes[label] = []\n",
    "            themes[label].append(score)\n",
    "\n",
    "    # Lets have the mean of the value \n",
    "    themes = {key : np.mean(value) for key, value in themes.items()}\n",
    "\n",
    "    return themes"
   ]
  },
  {
   "cell_type": "code",
   "execution_count": 112,
   "metadata": {},
   "outputs": [
    {
     "data": {
      "text/plain": [
       "{'dialogue': np.float64(0.9585433304309845),\n",
       " 'betrayal': np.float64(0.7927067577838898),\n",
       " 'battle': np.float64(0.7564094662666321),\n",
       " 'sacrifice': np.float64(0.6804312467575073),\n",
       " 'self development': np.float64(0.7981570661067963),\n",
       " 'hope': np.float64(0.20166990906000137),\n",
       " 'friendship': np.float64(0.07262784615159035),\n",
       " 'love': np.float64(0.03414133097976446)}"
      ]
     },
     "execution_count": 112,
     "metadata": {},
     "output_type": "execute_result"
    }
   ],
   "source": [
    "# Get the Scripts value \n",
    "scripts = df.iloc[0]['script']\n",
    "get_themes_inference(scripts)"
   ]
  },
  {
   "cell_type": "code",
   "execution_count": 104,
   "metadata": {},
   "outputs": [
    {
     "data": {
      "text/html": [
       "<div>\n",
       "<style scoped>\n",
       "    .dataframe tbody tr th:only-of-type {\n",
       "        vertical-align: middle;\n",
       "    }\n",
       "\n",
       "    .dataframe tbody tr th {\n",
       "        vertical-align: top;\n",
       "    }\n",
       "\n",
       "    .dataframe thead th {\n",
       "        text-align: right;\n",
       "    }\n",
       "</style>\n",
       "<table border=\"1\" class=\"dataframe\">\n",
       "  <thead>\n",
       "    <tr style=\"text-align: right;\">\n",
       "      <th></th>\n",
       "      <th>episode</th>\n",
       "      <th>script</th>\n",
       "    </tr>\n",
       "  </thead>\n",
       "  <tbody>\n",
       "    <tr>\n",
       "      <th>0</th>\n",
       "      <td>1</td>\n",
       "      <td>A long time ago, a powerful demon fox appeared...</td>\n",
       "    </tr>\n",
       "    <tr>\n",
       "      <th>1</th>\n",
       "      <td>1</td>\n",
       "      <td>C'mon!\\n Running like a fugitive,\\n Being chas...</td>\n",
       "    </tr>\n",
       "  </tbody>\n",
       "</table>\n",
       "</div>"
      ],
      "text/plain": [
       "   episode                                             script\n",
       "0        1  A long time ago, a powerful demon fox appeared...\n",
       "1        1  C'mon!\\n Running like a fugitive,\\n Being chas..."
      ]
     },
     "execution_count": 104,
     "metadata": {},
     "output_type": "execute_result"
    }
   ],
   "source": [
    "# Earlier we have got the script value \n",
    "df = df.head(2)\n",
    "df"
   ]
  },
  {
   "cell_type": "code",
   "execution_count": 113,
   "metadata": {},
   "outputs": [],
   "source": [
    "# Now next task is to get each sentence and then apply the fucntion by using which we can classiify and get score for each sentence \n",
    "Output_themes = df['script'].apply(get_themes_inference)"
   ]
  },
  {
   "cell_type": "code",
   "execution_count": 114,
   "metadata": {},
   "outputs": [
    {
     "data": {
      "text/plain": [
       "0    {'dialogue': 0.9585433304309845, 'betrayal': 0...\n",
       "1    {'dialogue': 0.9606050252914429, 'sacrifice': ...\n",
       "Name: script, dtype: object"
      ]
     },
     "execution_count": 114,
     "metadata": {},
     "output_type": "execute_result"
    }
   ],
   "source": [
    "# Now we have got the score for first 2 sentence and we are able to classify it based on scores also \n",
    "# we are using CPU so we ran 2 sentence in google golab we can ru the complete scripts\n",
    "Output_themes"
   ]
  },
  {
   "cell_type": "code",
   "execution_count": 117,
   "metadata": {},
   "outputs": [],
   "source": [
    "# Convert to Dataframe \n",
    "theme_df = pd.DataFrame(Output_themes.tolist())"
   ]
  },
  {
   "cell_type": "code",
   "execution_count": null,
   "metadata": {},
   "outputs": [
    {
     "data": {
      "text/html": [
       "<div>\n",
       "<style scoped>\n",
       "    .dataframe tbody tr th:only-of-type {\n",
       "        vertical-align: middle;\n",
       "    }\n",
       "\n",
       "    .dataframe tbody tr th {\n",
       "        vertical-align: top;\n",
       "    }\n",
       "\n",
       "    .dataframe thead th {\n",
       "        text-align: right;\n",
       "    }\n",
       "</style>\n",
       "<table border=\"1\" class=\"dataframe\">\n",
       "  <thead>\n",
       "    <tr style=\"text-align: right;\">\n",
       "      <th></th>\n",
       "      <th>script</th>\n",
       "    </tr>\n",
       "  </thead>\n",
       "  <tbody>\n",
       "    <tr>\n",
       "      <th>0</th>\n",
       "      <td>{'dialogue': 0.9585433304309845, 'betrayal': 0...</td>\n",
       "    </tr>\n",
       "    <tr>\n",
       "      <th>1</th>\n",
       "      <td>{'dialogue': 0.9606050252914429, 'sacrifice': ...</td>\n",
       "    </tr>\n",
       "  </tbody>\n",
       "</table>\n",
       "</div>"
      ],
      "text/plain": [
       "                                              script\n",
       "0  {'dialogue': 0.9585433304309845, 'betrayal': 0...\n",
       "1  {'dialogue': 0.9606050252914429, 'sacrifice': ..."
      ]
     },
     "execution_count": 116,
     "metadata": {},
     "output_type": "execute_result"
    }
   ],
   "source": [
    "# pd.DataFrame.from_dict(Output_themes)"
   ]
  },
  {
   "cell_type": "code",
   "execution_count": 118,
   "metadata": {},
   "outputs": [
    {
     "data": {
      "text/html": [
       "<div>\n",
       "<style scoped>\n",
       "    .dataframe tbody tr th:only-of-type {\n",
       "        vertical-align: middle;\n",
       "    }\n",
       "\n",
       "    .dataframe tbody tr th {\n",
       "        vertical-align: top;\n",
       "    }\n",
       "\n",
       "    .dataframe thead th {\n",
       "        text-align: right;\n",
       "    }\n",
       "</style>\n",
       "<table border=\"1\" class=\"dataframe\">\n",
       "  <thead>\n",
       "    <tr style=\"text-align: right;\">\n",
       "      <th></th>\n",
       "      <th>dialogue</th>\n",
       "      <th>betrayal</th>\n",
       "      <th>battle</th>\n",
       "      <th>sacrifice</th>\n",
       "      <th>self development</th>\n",
       "      <th>hope</th>\n",
       "      <th>friendship</th>\n",
       "      <th>love</th>\n",
       "    </tr>\n",
       "  </thead>\n",
       "  <tbody>\n",
       "    <tr>\n",
       "      <th>0</th>\n",
       "      <td>0.958543</td>\n",
       "      <td>0.792707</td>\n",
       "      <td>0.756409</td>\n",
       "      <td>0.680431</td>\n",
       "      <td>0.798157</td>\n",
       "      <td>0.201670</td>\n",
       "      <td>0.072628</td>\n",
       "      <td>0.034141</td>\n",
       "    </tr>\n",
       "    <tr>\n",
       "      <th>1</th>\n",
       "      <td>0.960605</td>\n",
       "      <td>0.429944</td>\n",
       "      <td>0.684843</td>\n",
       "      <td>0.570702</td>\n",
       "      <td>0.482808</td>\n",
       "      <td>0.154535</td>\n",
       "      <td>0.046261</td>\n",
       "      <td>0.173260</td>\n",
       "    </tr>\n",
       "  </tbody>\n",
       "</table>\n",
       "</div>"
      ],
      "text/plain": [
       "   dialogue  betrayal    battle  sacrifice  self development      hope  \\\n",
       "0  0.958543  0.792707  0.756409   0.680431          0.798157  0.201670   \n",
       "1  0.960605  0.429944  0.684843   0.570702          0.482808  0.154535   \n",
       "\n",
       "   friendship      love  \n",
       "0    0.072628  0.034141  \n",
       "1    0.046261  0.173260  "
      ]
     },
     "execution_count": 118,
     "metadata": {},
     "output_type": "execute_result"
    }
   ],
   "source": [
    "theme_df"
   ]
  },
  {
   "cell_type": "code",
   "execution_count": 119,
   "metadata": {},
   "outputs": [
    {
     "data": {
      "text/html": [
       "<div>\n",
       "<style scoped>\n",
       "    .dataframe tbody tr th:only-of-type {\n",
       "        vertical-align: middle;\n",
       "    }\n",
       "\n",
       "    .dataframe tbody tr th {\n",
       "        vertical-align: top;\n",
       "    }\n",
       "\n",
       "    .dataframe thead th {\n",
       "        text-align: right;\n",
       "    }\n",
       "</style>\n",
       "<table border=\"1\" class=\"dataframe\">\n",
       "  <thead>\n",
       "    <tr style=\"text-align: right;\">\n",
       "      <th></th>\n",
       "      <th>episode</th>\n",
       "      <th>script</th>\n",
       "    </tr>\n",
       "  </thead>\n",
       "  <tbody>\n",
       "    <tr>\n",
       "      <th>0</th>\n",
       "      <td>1</td>\n",
       "      <td>A long time ago, a powerful demon fox appeared...</td>\n",
       "    </tr>\n",
       "    <tr>\n",
       "      <th>1</th>\n",
       "      <td>1</td>\n",
       "      <td>C'mon!\\n Running like a fugitive,\\n Being chas...</td>\n",
       "    </tr>\n",
       "  </tbody>\n",
       "</table>\n",
       "</div>"
      ],
      "text/plain": [
       "   episode                                             script\n",
       "0        1  A long time ago, a powerful demon fox appeared...\n",
       "1        1  C'mon!\\n Running like a fugitive,\\n Being chas..."
      ]
     },
     "execution_count": 119,
     "metadata": {},
     "output_type": "execute_result"
    }
   ],
   "source": [
    "df"
   ]
  },
  {
   "cell_type": "code",
   "execution_count": 123,
   "metadata": {},
   "outputs": [
    {
     "data": {
      "text/html": [
       "<div>\n",
       "<style scoped>\n",
       "    .dataframe tbody tr th:only-of-type {\n",
       "        vertical-align: middle;\n",
       "    }\n",
       "\n",
       "    .dataframe tbody tr th {\n",
       "        vertical-align: top;\n",
       "    }\n",
       "\n",
       "    .dataframe thead th {\n",
       "        text-align: right;\n",
       "    }\n",
       "</style>\n",
       "<table border=\"1\" class=\"dataframe\">\n",
       "  <thead>\n",
       "    <tr style=\"text-align: right;\">\n",
       "      <th></th>\n",
       "      <th>episode</th>\n",
       "      <th>script</th>\n",
       "      <th>dialogue</th>\n",
       "      <th>betrayal</th>\n",
       "      <th>battle</th>\n",
       "      <th>sacrifice</th>\n",
       "      <th>self development</th>\n",
       "      <th>hope</th>\n",
       "      <th>friendship</th>\n",
       "      <th>love</th>\n",
       "    </tr>\n",
       "  </thead>\n",
       "  <tbody>\n",
       "    <tr>\n",
       "      <th>0</th>\n",
       "      <td>1</td>\n",
       "      <td>A long time ago, a powerful demon fox appeared...</td>\n",
       "      <td>0.958543</td>\n",
       "      <td>0.792707</td>\n",
       "      <td>0.756409</td>\n",
       "      <td>0.680431</td>\n",
       "      <td>0.798157</td>\n",
       "      <td>0.201670</td>\n",
       "      <td>0.072628</td>\n",
       "      <td>0.034141</td>\n",
       "    </tr>\n",
       "    <tr>\n",
       "      <th>1</th>\n",
       "      <td>1</td>\n",
       "      <td>C'mon!\\n Running like a fugitive,\\n Being chas...</td>\n",
       "      <td>0.960605</td>\n",
       "      <td>0.429944</td>\n",
       "      <td>0.684843</td>\n",
       "      <td>0.570702</td>\n",
       "      <td>0.482808</td>\n",
       "      <td>0.154535</td>\n",
       "      <td>0.046261</td>\n",
       "      <td>0.173260</td>\n",
       "    </tr>\n",
       "  </tbody>\n",
       "</table>\n",
       "</div>"
      ],
      "text/plain": [
       "   episode                                             script  dialogue  \\\n",
       "0        1  A long time ago, a powerful demon fox appeared...  0.958543   \n",
       "1        1  C'mon!\\n Running like a fugitive,\\n Being chas...  0.960605   \n",
       "\n",
       "   betrayal    battle  sacrifice  self development      hope  friendship  \\\n",
       "0  0.792707  0.756409   0.680431          0.798157  0.201670    0.072628   \n",
       "1  0.429944  0.684843   0.570702          0.482808  0.154535    0.046261   \n",
       "\n",
       "       love  \n",
       "0  0.034141  \n",
       "1  0.173260  "
      ]
     },
     "execution_count": 123,
     "metadata": {},
     "output_type": "execute_result"
    }
   ],
   "source": [
    "# Now lets combine both of them \n",
    "# The below line of code means we are adding all the column in df for all theme_df both way we can do \n",
    "# theme_df[df.columns] = df\n",
    "# theme_df\n",
    "df[theme_df.columns] = theme_df\n",
    "df\n"
   ]
  },
  {
   "cell_type": "code",
   "execution_count": null,
   "metadata": {},
   "outputs": [],
   "source": []
  }
 ],
 "metadata": {
  "kernelspec": {
   "display_name": "env",
   "language": "python",
   "name": "python3"
  },
  "language_info": {
   "codemirror_mode": {
    "name": "ipython",
    "version": 3
   },
   "file_extension": ".py",
   "mimetype": "text/x-python",
   "name": "python",
   "nbconvert_exporter": "python",
   "pygments_lexer": "ipython3",
   "version": "3.12.2"
  }
 },
 "nbformat": 4,
 "nbformat_minor": 2
}
